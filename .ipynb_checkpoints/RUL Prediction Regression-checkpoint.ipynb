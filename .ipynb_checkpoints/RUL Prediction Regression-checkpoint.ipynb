{
 "cells": [
  {
   "cell_type": "code",
   "execution_count": 2,
   "id": "e17e36c5",
   "metadata": {},
   "outputs": [],
   "source": [
    "import pandas as pd\n",
    "import numpy as np\n",
    "\n",
    "#to plot the data\n",
    "import matplotlib.pyplot as plt\n",
    "import seaborn as sns\n",
    "%matplotlib inline\n",
    "import matplotlib as mpl\n",
    "mpl.rcParams.update(mpl.rcParamsDefault)\n",
    "\n",
    "import time\n",
    "import os\n",
    "\n",
    "from sklearn.preprocessing import MinMaxScaler #to normalize data\n",
    "\n",
    "#for deep learning\n",
    "\n",
    "import keras\n",
    "import keras.backend as k\n",
    "from keras.models import Sequential\n",
    "from keras.layers import Dense, LSTM, Activation, Masking, Dropout\n",
    "from keras.optimizers import RMSprop, Adam\n",
    "from keras.callbacks import History\n",
    "from keras import callbacks"
   ]
  },
  {
   "cell_type": "code",
   "execution_count": 3,
   "id": "d8a68a43",
   "metadata": {},
   "outputs": [],
   "source": [
    "# based on data wrangling python notebook\n",
    "\n",
    "def prepare_data(drop_cols = True):\n",
    "    dependent_var = ['RUL']\n",
    "    index_columns_names =  [\"UnitNumber\",\"Cycle\"]\n",
    "    operational_settings_columns_names = [\"OptSet\"+str(i) for i in range(1,4)]\n",
    "    sensor_measure_columns_names =[\"Sensor\"+str(i) for i in range(1,22)]\n",
    "    input_file_column_names = index_columns_names + operational_settings_columns_names + sensor_measure_columns_names\n",
    "\n",
    "    cols_to_drop = ['OptSet3', 'Sensor1', 'Sensor5', 'Sensor6', \n",
    "                    'Sensor10', 'Sensor14','Sensor16', \n",
    "                    'Sensor18', 'Sensor19']\n",
    "\n",
    "    df_train = pd.read_csv('./CMaps/train_FD001.txt',sep='\\s+', names=input_file_column_names)\n",
    "\n",
    "    rul = pd.DataFrame(df_train.groupby('UnitNumber')['Cycle'].max()).reset_index()\n",
    "    rul.columns = ['UnitNumber', 'max']\n",
    "    df_train = df_train.merge(rul, on=['UnitNumber'], how='left')\n",
    "    df_train['RUL'] = df_train['max'] - df_train['Cycle']\n",
    "    df_train.drop('max', axis=1, inplace=True)\n",
    "\n",
    "    df_test = pd.read_csv('./CMaps/test_FD001.txt', sep='\\s+', names=input_file_column_names)\n",
    "    \n",
    "    if(drop_cols == True):\n",
    "        df_train = df_train.drop(cols_to_drop, axis = 1)\n",
    "        df_test = df_test.drop(cols_to_drop, axis = 1)\n",
    "\n",
    "    y_true = pd.read_csv('./CMaps/RUL_FD001.txt', sep='\\s+', names=[\"RUL\"])\n",
    "    y_true[\"UnitNumber\"] = y_true.index\n",
    "    \n",
    "    return df_train, df_test, y_true"
   ]
  },
  {
   "cell_type": "code",
   "execution_count": 4,
   "id": "22897cbd",
   "metadata": {},
   "outputs": [
    {
     "data": {
      "text/plain": [
       "((20631, 18), (13096, 17), (100, 2))"
      ]
     },
     "execution_count": 4,
     "metadata": {},
     "output_type": "execute_result"
    }
   ],
   "source": [
    "df_train, df_test, y_true = prepare_data()\n",
    "df_train.shape, df_test.shape, y_true.shape"
   ]
  },
  {
   "cell_type": "code",
   "execution_count": 5,
   "id": "1e91327e",
   "metadata": {},
   "outputs": [
    {
     "data": {
      "text/plain": [
       "Index(['OptSet1', 'OptSet2', 'Sensor2', 'Sensor3', 'Sensor4', 'Sensor7',\n",
       "       'Sensor8', 'Sensor9', 'Sensor11', 'Sensor12', 'Sensor13', 'Sensor15',\n",
       "       'Sensor17', 'Sensor20', 'Sensor21'],\n",
       "      dtype='object')"
      ]
     },
     "execution_count": 5,
     "metadata": {},
     "output_type": "execute_result"
    }
   ],
   "source": [
    "features = df_train.columns.drop(['UnitNumber', 'Cycle', 'RUL'])\n",
    "features"
   ]
  },
  {
   "cell_type": "code",
   "execution_count": 6,
   "id": "256dbe2f",
   "metadata": {},
   "outputs": [],
   "source": [
    "## Standardization\n",
    "sc = MinMaxScaler(feature_range=(-1, 1))\n",
    "df_train[features] = sc.fit_transform(df_train[features])\n",
    "df_test[features] = sc.transform(df_test[features])"
   ]
  },
  {
   "cell_type": "code",
   "execution_count": 7,
   "id": "5430b68b",
   "metadata": {},
   "outputs": [
    {
     "data": {
      "text/html": [
       "<div>\n",
       "<style scoped>\n",
       "    .dataframe tbody tr th:only-of-type {\n",
       "        vertical-align: middle;\n",
       "    }\n",
       "\n",
       "    .dataframe tbody tr th {\n",
       "        vertical-align: top;\n",
       "    }\n",
       "\n",
       "    .dataframe thead th {\n",
       "        text-align: right;\n",
       "    }\n",
       "</style>\n",
       "<table border=\"1\" class=\"dataframe\">\n",
       "  <thead>\n",
       "    <tr style=\"text-align: right;\">\n",
       "      <th></th>\n",
       "      <th>UnitNumber</th>\n",
       "      <th>Cycle</th>\n",
       "      <th>OptSet1</th>\n",
       "      <th>OptSet2</th>\n",
       "      <th>Sensor2</th>\n",
       "      <th>Sensor3</th>\n",
       "      <th>Sensor4</th>\n",
       "      <th>Sensor7</th>\n",
       "      <th>Sensor8</th>\n",
       "      <th>Sensor9</th>\n",
       "      <th>Sensor11</th>\n",
       "      <th>Sensor12</th>\n",
       "      <th>Sensor13</th>\n",
       "      <th>Sensor15</th>\n",
       "      <th>Sensor17</th>\n",
       "      <th>Sensor20</th>\n",
       "      <th>Sensor21</th>\n",
       "      <th>RUL</th>\n",
       "    </tr>\n",
       "  </thead>\n",
       "  <tbody>\n",
       "    <tr>\n",
       "      <th>0</th>\n",
       "      <td>1</td>\n",
       "      <td>1</td>\n",
       "      <td>-0.080460</td>\n",
       "      <td>-0.666667</td>\n",
       "      <td>-0.632530</td>\n",
       "      <td>-0.186396</td>\n",
       "      <td>-0.380486</td>\n",
       "      <td>0.452496</td>\n",
       "      <td>-0.515152</td>\n",
       "      <td>-0.780490</td>\n",
       "      <td>-0.261905</td>\n",
       "      <td>0.266525</td>\n",
       "      <td>-0.588235</td>\n",
       "      <td>-0.272028</td>\n",
       "      <td>-0.333333</td>\n",
       "      <td>0.426357</td>\n",
       "      <td>0.449323</td>\n",
       "      <td>191</td>\n",
       "    </tr>\n",
       "    <tr>\n",
       "      <th>1</th>\n",
       "      <td>1</td>\n",
       "      <td>2</td>\n",
       "      <td>0.218391</td>\n",
       "      <td>-0.500000</td>\n",
       "      <td>-0.433735</td>\n",
       "      <td>-0.093961</td>\n",
       "      <td>-0.294733</td>\n",
       "      <td>0.256039</td>\n",
       "      <td>-0.575758</td>\n",
       "      <td>-0.799515</td>\n",
       "      <td>-0.238095</td>\n",
       "      <td>0.530917</td>\n",
       "      <td>-0.441176</td>\n",
       "      <td>-0.177376</td>\n",
       "      <td>-0.333333</td>\n",
       "      <td>0.333333</td>\n",
       "      <td>0.462027</td>\n",
       "      <td>190</td>\n",
       "    </tr>\n",
       "    <tr>\n",
       "      <th>2</th>\n",
       "      <td>1</td>\n",
       "      <td>3</td>\n",
       "      <td>-0.494253</td>\n",
       "      <td>0.500000</td>\n",
       "      <td>-0.313253</td>\n",
       "      <td>-0.260955</td>\n",
       "      <td>-0.258947</td>\n",
       "      <td>0.420290</td>\n",
       "      <td>-0.454545</td>\n",
       "      <td>-0.719914</td>\n",
       "      <td>-0.500000</td>\n",
       "      <td>0.590618</td>\n",
       "      <td>-0.558824</td>\n",
       "      <td>-0.285110</td>\n",
       "      <td>-0.666667</td>\n",
       "      <td>0.255814</td>\n",
       "      <td>0.242751</td>\n",
       "      <td>189</td>\n",
       "    </tr>\n",
       "    <tr>\n",
       "      <th>3</th>\n",
       "      <td>1</td>\n",
       "      <td>4</td>\n",
       "      <td>0.080460</td>\n",
       "      <td>0.000000</td>\n",
       "      <td>-0.313253</td>\n",
       "      <td>-0.487683</td>\n",
       "      <td>-0.337610</td>\n",
       "      <td>0.481481</td>\n",
       "      <td>-0.363636</td>\n",
       "      <td>-0.750965</td>\n",
       "      <td>-0.666667</td>\n",
       "      <td>0.778252</td>\n",
       "      <td>-0.411765</td>\n",
       "      <td>-0.666795</td>\n",
       "      <td>-0.333333</td>\n",
       "      <td>0.147287</td>\n",
       "      <td>0.324772</td>\n",
       "      <td>188</td>\n",
       "    </tr>\n",
       "    <tr>\n",
       "      <th>4</th>\n",
       "      <td>1</td>\n",
       "      <td>5</td>\n",
       "      <td>-0.218391</td>\n",
       "      <td>-0.333333</td>\n",
       "      <td>-0.301205</td>\n",
       "      <td>-0.485066</td>\n",
       "      <td>-0.190749</td>\n",
       "      <td>0.336554</td>\n",
       "      <td>-0.515152</td>\n",
       "      <td>-0.700081</td>\n",
       "      <td>-0.488095</td>\n",
       "      <td>0.492537</td>\n",
       "      <td>-0.529412</td>\n",
       "      <td>-0.195845</td>\n",
       "      <td>-0.166667</td>\n",
       "      <td>0.178295</td>\n",
       "      <td>0.409003</td>\n",
       "      <td>187</td>\n",
       "    </tr>\n",
       "  </tbody>\n",
       "</table>\n",
       "</div>"
      ],
      "text/plain": [
       "   UnitNumber  Cycle   OptSet1   OptSet2   Sensor2   Sensor3   Sensor4  \\\n",
       "0           1      1 -0.080460 -0.666667 -0.632530 -0.186396 -0.380486   \n",
       "1           1      2  0.218391 -0.500000 -0.433735 -0.093961 -0.294733   \n",
       "2           1      3 -0.494253  0.500000 -0.313253 -0.260955 -0.258947   \n",
       "3           1      4  0.080460  0.000000 -0.313253 -0.487683 -0.337610   \n",
       "4           1      5 -0.218391 -0.333333 -0.301205 -0.485066 -0.190749   \n",
       "\n",
       "    Sensor7   Sensor8   Sensor9  Sensor11  Sensor12  Sensor13  Sensor15  \\\n",
       "0  0.452496 -0.515152 -0.780490 -0.261905  0.266525 -0.588235 -0.272028   \n",
       "1  0.256039 -0.575758 -0.799515 -0.238095  0.530917 -0.441176 -0.177376   \n",
       "2  0.420290 -0.454545 -0.719914 -0.500000  0.590618 -0.558824 -0.285110   \n",
       "3  0.481481 -0.363636 -0.750965 -0.666667  0.778252 -0.411765 -0.666795   \n",
       "4  0.336554 -0.515152 -0.700081 -0.488095  0.492537 -0.529412 -0.195845   \n",
       "\n",
       "   Sensor17  Sensor20  Sensor21  RUL  \n",
       "0 -0.333333  0.426357  0.449323  191  \n",
       "1 -0.333333  0.333333  0.462027  190  \n",
       "2 -0.666667  0.255814  0.242751  189  \n",
       "3 -0.333333  0.147287  0.324772  188  \n",
       "4 -0.166667  0.178295  0.409003  187  "
      ]
     },
     "execution_count": 7,
     "metadata": {},
     "output_type": "execute_result"
    }
   ],
   "source": [
    "df_train.head()"
   ]
  },
  {
   "cell_type": "code",
   "execution_count": 8,
   "id": "dca534f9",
   "metadata": {},
   "outputs": [
    {
     "data": {
      "text/html": [
       "<div>\n",
       "<style scoped>\n",
       "    .dataframe tbody tr th:only-of-type {\n",
       "        vertical-align: middle;\n",
       "    }\n",
       "\n",
       "    .dataframe tbody tr th {\n",
       "        vertical-align: top;\n",
       "    }\n",
       "\n",
       "    .dataframe thead th {\n",
       "        text-align: right;\n",
       "    }\n",
       "</style>\n",
       "<table border=\"1\" class=\"dataframe\">\n",
       "  <thead>\n",
       "    <tr style=\"text-align: right;\">\n",
       "      <th></th>\n",
       "      <th>UnitNumber</th>\n",
       "      <th>Cycle</th>\n",
       "      <th>OptSet1</th>\n",
       "      <th>OptSet2</th>\n",
       "      <th>Sensor2</th>\n",
       "      <th>Sensor3</th>\n",
       "      <th>Sensor4</th>\n",
       "      <th>Sensor7</th>\n",
       "      <th>Sensor8</th>\n",
       "      <th>Sensor9</th>\n",
       "      <th>Sensor11</th>\n",
       "      <th>Sensor12</th>\n",
       "      <th>Sensor13</th>\n",
       "      <th>Sensor15</th>\n",
       "      <th>Sensor17</th>\n",
       "      <th>Sensor20</th>\n",
       "      <th>Sensor21</th>\n",
       "    </tr>\n",
       "  </thead>\n",
       "  <tbody>\n",
       "    <tr>\n",
       "      <th>0</th>\n",
       "      <td>1</td>\n",
       "      <td>1</td>\n",
       "      <td>0.264368</td>\n",
       "      <td>0.500000</td>\n",
       "      <td>0.090361</td>\n",
       "      <td>-0.378679</td>\n",
       "      <td>-0.461175</td>\n",
       "      <td>0.304348</td>\n",
       "      <td>-0.575758</td>\n",
       "      <td>-0.744773</td>\n",
       "      <td>-0.583333</td>\n",
       "      <td>0.292111</td>\n",
       "      <td>-0.558824</td>\n",
       "      <td>-0.382070</td>\n",
       "      <td>-0.333333</td>\n",
       "      <td>0.116279</td>\n",
       "      <td>0.323667</td>\n",
       "    </tr>\n",
       "    <tr>\n",
       "      <th>1</th>\n",
       "      <td>1</td>\n",
       "      <td>2</td>\n",
       "      <td>-0.310345</td>\n",
       "      <td>-0.500000</td>\n",
       "      <td>-0.698795</td>\n",
       "      <td>-0.240898</td>\n",
       "      <td>-0.555368</td>\n",
       "      <td>0.610306</td>\n",
       "      <td>-0.666667</td>\n",
       "      <td>-0.706632</td>\n",
       "      <td>-0.226190</td>\n",
       "      <td>0.479744</td>\n",
       "      <td>-0.470588</td>\n",
       "      <td>-0.573682</td>\n",
       "      <td>-0.166667</td>\n",
       "      <td>0.364341</td>\n",
       "      <td>0.373654</td>\n",
       "    </tr>\n",
       "    <tr>\n",
       "      <th>2</th>\n",
       "      <td>1</td>\n",
       "      <td>3</td>\n",
       "      <td>0.034483</td>\n",
       "      <td>0.166667</td>\n",
       "      <td>-0.246988</td>\n",
       "      <td>-0.306736</td>\n",
       "      <td>-0.355503</td>\n",
       "      <td>0.371981</td>\n",
       "      <td>-0.545455</td>\n",
       "      <td>-0.683837</td>\n",
       "      <td>-0.226190</td>\n",
       "      <td>0.398721</td>\n",
       "      <td>-0.558824</td>\n",
       "      <td>-0.082724</td>\n",
       "      <td>-0.166667</td>\n",
       "      <td>0.457364</td>\n",
       "      <td>0.442695</td>\n",
       "    </tr>\n",
       "    <tr>\n",
       "      <th>3</th>\n",
       "      <td>1</td>\n",
       "      <td>4</td>\n",
       "      <td>0.482759</td>\n",
       "      <td>0.000000</td>\n",
       "      <td>-0.259036</td>\n",
       "      <td>-0.429693</td>\n",
       "      <td>-0.183997</td>\n",
       "      <td>0.359098</td>\n",
       "      <td>-0.606061</td>\n",
       "      <td>-0.788567</td>\n",
       "      <td>-0.488095</td>\n",
       "      <td>0.147122</td>\n",
       "      <td>-0.500000</td>\n",
       "      <td>-0.485956</td>\n",
       "      <td>-0.500000</td>\n",
       "      <td>0.333333</td>\n",
       "      <td>0.324220</td>\n",
       "    </tr>\n",
       "    <tr>\n",
       "      <th>4</th>\n",
       "      <td>1</td>\n",
       "      <td>5</td>\n",
       "      <td>0.160920</td>\n",
       "      <td>0.000000</td>\n",
       "      <td>-0.216867</td>\n",
       "      <td>-0.295836</td>\n",
       "      <td>-0.335922</td>\n",
       "      <td>0.388084</td>\n",
       "      <td>-0.666667</td>\n",
       "      <td>-0.795208</td>\n",
       "      <td>-0.452381</td>\n",
       "      <td>0.475480</td>\n",
       "      <td>-0.558824</td>\n",
       "      <td>-0.398230</td>\n",
       "      <td>-0.666667</td>\n",
       "      <td>0.317829</td>\n",
       "      <td>0.432753</td>\n",
       "    </tr>\n",
       "  </tbody>\n",
       "</table>\n",
       "</div>"
      ],
      "text/plain": [
       "   UnitNumber  Cycle   OptSet1   OptSet2   Sensor2   Sensor3   Sensor4  \\\n",
       "0           1      1  0.264368  0.500000  0.090361 -0.378679 -0.461175   \n",
       "1           1      2 -0.310345 -0.500000 -0.698795 -0.240898 -0.555368   \n",
       "2           1      3  0.034483  0.166667 -0.246988 -0.306736 -0.355503   \n",
       "3           1      4  0.482759  0.000000 -0.259036 -0.429693 -0.183997   \n",
       "4           1      5  0.160920  0.000000 -0.216867 -0.295836 -0.335922   \n",
       "\n",
       "    Sensor7   Sensor8   Sensor9  Sensor11  Sensor12  Sensor13  Sensor15  \\\n",
       "0  0.304348 -0.575758 -0.744773 -0.583333  0.292111 -0.558824 -0.382070   \n",
       "1  0.610306 -0.666667 -0.706632 -0.226190  0.479744 -0.470588 -0.573682   \n",
       "2  0.371981 -0.545455 -0.683837 -0.226190  0.398721 -0.558824 -0.082724   \n",
       "3  0.359098 -0.606061 -0.788567 -0.488095  0.147122 -0.500000 -0.485956   \n",
       "4  0.388084 -0.666667 -0.795208 -0.452381  0.475480 -0.558824 -0.398230   \n",
       "\n",
       "   Sensor17  Sensor20  Sensor21  \n",
       "0 -0.333333  0.116279  0.323667  \n",
       "1 -0.166667  0.364341  0.373654  \n",
       "2 -0.166667  0.457364  0.442695  \n",
       "3 -0.500000  0.333333  0.324220  \n",
       "4 -0.666667  0.317829  0.432753  "
      ]
     },
     "execution_count": 8,
     "metadata": {},
     "output_type": "execute_result"
    }
   ],
   "source": [
    "df_test.head()"
   ]
  },
  {
   "cell_type": "code",
   "execution_count": 9,
   "id": "171edd0c",
   "metadata": {},
   "outputs": [
    {
     "data": {
      "text/plain": [
       "Index(['OptSet1', 'OptSet2', 'Sensor2', 'Sensor3', 'Sensor4', 'Sensor7',\n",
       "       'Sensor8', 'Sensor9', 'Sensor11', 'Sensor12', 'Sensor13', 'Sensor15',\n",
       "       'Sensor17', 'Sensor20', 'Sensor21'],\n",
       "      dtype='object')"
      ]
     },
     "execution_count": 9,
     "metadata": {},
     "output_type": "execute_result"
    }
   ],
   "source": [
    "features"
   ]
  },
  {
   "cell_type": "code",
   "execution_count": 16,
   "id": "daa3e1c0",
   "metadata": {},
   "outputs": [],
   "source": [
    "def train_numpy(df, sequence_length, seq_cols):\n",
    "    data_array = df[seq_cols].values\n",
    "    num_elements = df.shape[0]\n",
    "    \n",
    "    lstm_array = []\n",
    "    \n",
    "    # generate the sequences\n",
    "    for start in range(num_elements - sequence_length + 1):\n",
    "        stop = start + sequence_length\n",
    "        lstm_array.append(data_array[start:stop, :])\n",
    "    return np.array(lstm_array)"
   ]
  },
  {
   "cell_type": "code",
   "execution_count": 17,
   "id": "907f1ea2",
   "metadata": {},
   "outputs": [],
   "source": [
    "def target_numpy(df, sequence_length, label):\n",
    "    data_array = df[label].values\n",
    "    num_elements = data_array.shape[0]\n",
    "    return data_array[seq_length-1:num_elements+1]"
   ]
  },
  {
   "cell_type": "code",
   "execution_count": 18,
   "id": "11650326",
   "metadata": {},
   "outputs": [],
   "source": [
    "def test_numpy(df, sequence_length, seq_cols, mask_value):\n",
    "    \n",
    "    df_mask = pd.DataFrame(np.zeros((sequence_length - 1, df.shape[1])), columns=df.columns)\n",
    "    df_mask[:] = mask_value\n",
    "    \n",
    "    id_df = pd.concat([df_mask, df], ignore_index=True)\n",
    "    \n",
    "    data_array = id_df[seq_cols].values\n",
    "    num_elements = data_array.shape[0]\n",
    "    lstm_array = []\n",
    "    \n",
    "    start = num_elements - sequence_length\n",
    "    stop = num_elements\n",
    "    \n",
    "    lstm_array.append(data_array[start:stop, :])\n",
    "    \n",
    "    return np.array(lstm_array)"
   ]
  },
  {
   "cell_type": "code",
   "execution_count": 19,
   "id": "63edf081",
   "metadata": {},
   "outputs": [
    {
     "name": "stdout",
     "output_type": "stream",
     "text": [
      "[[[-0.08045977 -0.66666667 -0.63253012 ... -0.33333333  0.42635659\n",
      "    0.44932339]\n",
      "  [ 0.2183908  -0.5        -0.43373494 ... -0.33333333  0.33333333\n",
      "    0.46202706]\n",
      "  [-0.49425287  0.5        -0.31325301 ... -0.66666667  0.25581395\n",
      "    0.24275062]\n",
      "  ...\n",
      "  [ 0.2183908   0.16666667 -0.59036145 ... -0.33333333  0.24031008\n",
      "    0.30019332]\n",
      "  [-0.16091954  0.83333333 -0.38554217 ... -0.33333333  0.42635659\n",
      "    0.53438277]\n",
      "  [-0.36781609 -0.16666667 -0.06024096 ... -0.33333333  0.10077519\n",
      "    0.42612538]]\n",
      "\n",
      " [[ 0.2183908  -0.5        -0.43373494 ... -0.33333333  0.33333333\n",
      "    0.46202706]\n",
      "  [-0.49425287  0.5        -0.31325301 ... -0.66666667  0.25581395\n",
      "    0.24275062]\n",
      "  [ 0.08045977  0.         -0.31325301 ... -0.33333333  0.14728682\n",
      "    0.32477216]\n",
      "  ...\n",
      "  [-0.16091954  0.83333333 -0.38554217 ... -0.33333333  0.42635659\n",
      "    0.53438277]\n",
      "  [-0.36781609 -0.16666667 -0.06024096 ... -0.33333333  0.10077519\n",
      "    0.42612538]\n",
      "  [-0.11494253  0.5        -0.03614458 ... -0.16666667  0.24031008\n",
      "    0.30046948]]\n",
      "\n",
      " [[-0.49425287  0.5        -0.31325301 ... -0.66666667  0.25581395\n",
      "    0.24275062]\n",
      "  [ 0.08045977  0.         -0.31325301 ... -0.33333333  0.14728682\n",
      "    0.32477216]\n",
      "  [-0.2183908  -0.33333333 -0.30120482 ... -0.16666667  0.17829457\n",
      "    0.40900304]\n",
      "  ...\n",
      "  [-0.36781609 -0.16666667 -0.06024096 ... -0.33333333  0.10077519\n",
      "    0.42612538]\n",
      "  [-0.11494253  0.5        -0.03614458 ... -0.16666667  0.24031008\n",
      "    0.30046948]\n",
      "  [ 0.20689655 -0.16666667 -0.06626506 ... -0.5         0.33333333\n",
      "    0.22783761]]\n",
      "\n",
      " ...\n",
      "\n",
      " [[ 0.32183908 -0.16666667  0.08433735 ...  0.         -0.42635659\n",
      "   -0.08864954]\n",
      "  [-0.01149425 -0.5        -0.26506024 ...  0.16666667 -0.25581395\n",
      "   -0.14940624]\n",
      "  [ 0.51724138  0.5        -0.12048193 ...  0.         -0.05426357\n",
      "   -0.11709473]\n",
      "  ...\n",
      "  [-0.04597701 -0.5         0.37349398 ...  0.5        -0.45736434\n",
      "   -0.78099972]\n",
      "  [-0.18390805 -0.83333333  0.40361446 ...  0.16666667 -0.75193798\n",
      "   -0.26760563]\n",
      "  [ 0.04597701  0.          0.3313253  ...  0.66666667 -0.53488372\n",
      "   -0.89201878]]\n",
      "\n",
      " [[-0.01149425 -0.5        -0.26506024 ...  0.16666667 -0.25581395\n",
      "   -0.14940624]\n",
      "  [ 0.51724138  0.5        -0.12048193 ...  0.         -0.05426357\n",
      "   -0.11709473]\n",
      "  [-0.11494253 -0.33333333  0.1626506  ...  0.          0.05426357\n",
      "    0.10936205]\n",
      "  ...\n",
      "  [-0.18390805 -0.83333333  0.40361446 ...  0.16666667 -0.75193798\n",
      "   -0.26760563]\n",
      "  [ 0.04597701  0.          0.3313253  ...  0.66666667 -0.53488372\n",
      "   -0.89201878]\n",
      "  [-0.12643678  0.5         0.21686747 ...  0.16666667 -0.76744186\n",
      "   -0.53106877]]\n",
      "\n",
      " [[ 0.51724138  0.5        -0.12048193 ...  0.         -0.05426357\n",
      "   -0.11709473]\n",
      "  [-0.11494253 -0.33333333  0.1626506  ...  0.          0.05426357\n",
      "    0.10936205]\n",
      "  [-0.11494253 -0.5         0.         ...  0.         -0.02325581\n",
      "   -0.36509252]\n",
      "  ...\n",
      "  [ 0.04597701  0.          0.3313253  ...  0.66666667 -0.53488372\n",
      "   -0.89201878]\n",
      "  [-0.12643678  0.5         0.21686747 ...  0.16666667 -0.76744186\n",
      "   -0.53106877]\n",
      "  [-0.36781609 -0.83333333  0.59036145 ...  0.33333333 -0.64341085\n",
      "   -0.56365645]]]\n"
     ]
    }
   ],
   "source": [
    "sequence_length = 50\n",
    "mask_value = 0\n",
    "\n",
    "x_train=np.concatenate(list(list(train_numpy(df_train[df_train['UnitNumber']==unit], sequence_length, features)) \n",
    "                            for unit in df_train['UnitNumber'].unique()))\n",
    "print(x_train)"
   ]
  },
  {
   "cell_type": "code",
   "execution_count": 20,
   "id": "09d0b869",
   "metadata": {},
   "outputs": [
    {
     "name": "stdout",
     "output_type": "stream",
     "text": [
      "(15731,)\n"
     ]
    }
   ],
   "source": [
    "#generate target of train\n",
    "y_train=np.concatenate(list(list(gen_target(df_train[df_train['UnitNumber']==unit], sequence_length, \"RUL\")) \n",
    "                              for unit in df_train['UnitNumber'].unique()))\n",
    "print(y_train.shape)"
   ]
  },
  {
   "cell_type": "code",
   "execution_count": 21,
   "id": "037e5647",
   "metadata": {},
   "outputs": [
    {
     "name": "stdout",
     "output_type": "stream",
     "text": [
      "(100, 50, 15)\n"
     ]
    }
   ],
   "source": [
    "#generate test\n",
    "x_test=np.concatenate(list(list(gen_test(df_test[df_test['UnitNumber']==unit], sequence_length, features, mask_value)) \n",
    "                           for unit in df_test['UnitNumber'].unique()))\n",
    "print(x_test.shape)"
   ]
  },
  {
   "cell_type": "code",
   "execution_count": 22,
   "id": "bc806f3e",
   "metadata": {},
   "outputs": [
    {
     "data": {
      "text/plain": [
       "(100,)"
      ]
     },
     "execution_count": 22,
     "metadata": {},
     "output_type": "execute_result"
    }
   ],
   "source": [
    "y_test = y_true.RUL.values\n",
    "y_test.shape"
   ]
  },
  {
   "cell_type": "code",
   "execution_count": 23,
   "id": "22ef67de",
   "metadata": {},
   "outputs": [],
   "source": [
    "nb_features = x_train.shape[2]\n",
    "nb_out = 1"
   ]
  },
  {
   "cell_type": "code",
   "execution_count": 24,
   "id": "9eb2ba83",
   "metadata": {},
   "outputs": [
    {
     "data": {
      "text/plain": [
       "15"
      ]
     },
     "execution_count": 24,
     "metadata": {},
     "output_type": "execute_result"
    }
   ],
   "source": [
    "nb_features"
   ]
  },
  {
   "cell_type": "code",
   "execution_count": 30,
   "id": "579d55a8",
   "metadata": {},
   "outputs": [
    {
     "name": "stderr",
     "output_type": "stream",
     "text": [
      "C:\\Users\\kamal\\anaconda3\\envs\\dl\\lib\\site-packages\\keras\\src\\layers\\rnn\\rnn.py:204: UserWarning: Do not pass an `input_shape`/`input_dim` argument to a layer. When using Sequential models, prefer using an `Input(shape)` object as the first layer in the model instead.\n",
      "  super().__init__(**kwargs)\n"
     ]
    },
    {
     "data": {
      "text/html": [
       "<pre style=\"white-space:pre;overflow-x:auto;line-height:normal;font-family:Menlo,'DejaVu Sans Mono',consolas,'Courier New',monospace\"><span style=\"font-weight: bold\">Model: \"sequential_3\"</span>\n",
       "</pre>\n"
      ],
      "text/plain": [
       "\u001b[1mModel: \"sequential_3\"\u001b[0m\n"
      ]
     },
     "metadata": {},
     "output_type": "display_data"
    },
    {
     "data": {
      "text/html": [
       "<pre style=\"white-space:pre;overflow-x:auto;line-height:normal;font-family:Menlo,'DejaVu Sans Mono',consolas,'Courier New',monospace\">┏━━━━━━━━━━━━━━━━━━━━━━━━━━━━━━━━━━━━━━┳━━━━━━━━━━━━━━━━━━━━━━━━━━━━━┳━━━━━━━━━━━━━━━━━┓\n",
       "┃<span style=\"font-weight: bold\"> Layer (type)                         </span>┃<span style=\"font-weight: bold\"> Output Shape                </span>┃<span style=\"font-weight: bold\">         Param # </span>┃\n",
       "┡━━━━━━━━━━━━━━━━━━━━━━━━━━━━━━━━━━━━━━╇━━━━━━━━━━━━━━━━━━━━━━━━━━━━━╇━━━━━━━━━━━━━━━━━┩\n",
       "│ lstm_2 (<span style=\"color: #0087ff; text-decoration-color: #0087ff\">LSTM</span>)                        │ (<span style=\"color: #00d7ff; text-decoration-color: #00d7ff\">None</span>, <span style=\"color: #00af00; text-decoration-color: #00af00\">50</span>, <span style=\"color: #00af00; text-decoration-color: #00af00\">100</span>)             │          <span style=\"color: #00af00; text-decoration-color: #00af00\">46,400</span> │\n",
       "├──────────────────────────────────────┼─────────────────────────────┼─────────────────┤\n",
       "│ dropout_2 (<span style=\"color: #0087ff; text-decoration-color: #0087ff\">Dropout</span>)                  │ (<span style=\"color: #00d7ff; text-decoration-color: #00d7ff\">None</span>, <span style=\"color: #00af00; text-decoration-color: #00af00\">50</span>, <span style=\"color: #00af00; text-decoration-color: #00af00\">100</span>)             │               <span style=\"color: #00af00; text-decoration-color: #00af00\">0</span> │\n",
       "├──────────────────────────────────────┼─────────────────────────────┼─────────────────┤\n",
       "│ lstm_3 (<span style=\"color: #0087ff; text-decoration-color: #0087ff\">LSTM</span>)                        │ (<span style=\"color: #00d7ff; text-decoration-color: #00d7ff\">None</span>, <span style=\"color: #00af00; text-decoration-color: #00af00\">100</span>)                 │          <span style=\"color: #00af00; text-decoration-color: #00af00\">80,400</span> │\n",
       "├──────────────────────────────────────┼─────────────────────────────┼─────────────────┤\n",
       "│ dropout_3 (<span style=\"color: #0087ff; text-decoration-color: #0087ff\">Dropout</span>)                  │ (<span style=\"color: #00d7ff; text-decoration-color: #00d7ff\">None</span>, <span style=\"color: #00af00; text-decoration-color: #00af00\">100</span>)                 │               <span style=\"color: #00af00; text-decoration-color: #00af00\">0</span> │\n",
       "├──────────────────────────────────────┼─────────────────────────────┼─────────────────┤\n",
       "│ dense_1 (<span style=\"color: #0087ff; text-decoration-color: #0087ff\">Dense</span>)                      │ (<span style=\"color: #00d7ff; text-decoration-color: #00d7ff\">None</span>, <span style=\"color: #00af00; text-decoration-color: #00af00\">1</span>)                   │             <span style=\"color: #00af00; text-decoration-color: #00af00\">101</span> │\n",
       "├──────────────────────────────────────┼─────────────────────────────┼─────────────────┤\n",
       "│ activation_1 (<span style=\"color: #0087ff; text-decoration-color: #0087ff\">Activation</span>)            │ (<span style=\"color: #00d7ff; text-decoration-color: #00d7ff\">None</span>, <span style=\"color: #00af00; text-decoration-color: #00af00\">1</span>)                   │               <span style=\"color: #00af00; text-decoration-color: #00af00\">0</span> │\n",
       "└──────────────────────────────────────┴─────────────────────────────┴─────────────────┘\n",
       "</pre>\n"
      ],
      "text/plain": [
       "┏━━━━━━━━━━━━━━━━━━━━━━━━━━━━━━━━━━━━━━┳━━━━━━━━━━━━━━━━━━━━━━━━━━━━━┳━━━━━━━━━━━━━━━━━┓\n",
       "┃\u001b[1m \u001b[0m\u001b[1mLayer (type)                        \u001b[0m\u001b[1m \u001b[0m┃\u001b[1m \u001b[0m\u001b[1mOutput Shape               \u001b[0m\u001b[1m \u001b[0m┃\u001b[1m \u001b[0m\u001b[1m        Param #\u001b[0m\u001b[1m \u001b[0m┃\n",
       "┡━━━━━━━━━━━━━━━━━━━━━━━━━━━━━━━━━━━━━━╇━━━━━━━━━━━━━━━━━━━━━━━━━━━━━╇━━━━━━━━━━━━━━━━━┩\n",
       "│ lstm_2 (\u001b[38;5;33mLSTM\u001b[0m)                        │ (\u001b[38;5;45mNone\u001b[0m, \u001b[38;5;34m50\u001b[0m, \u001b[38;5;34m100\u001b[0m)             │          \u001b[38;5;34m46,400\u001b[0m │\n",
       "├──────────────────────────────────────┼─────────────────────────────┼─────────────────┤\n",
       "│ dropout_2 (\u001b[38;5;33mDropout\u001b[0m)                  │ (\u001b[38;5;45mNone\u001b[0m, \u001b[38;5;34m50\u001b[0m, \u001b[38;5;34m100\u001b[0m)             │               \u001b[38;5;34m0\u001b[0m │\n",
       "├──────────────────────────────────────┼─────────────────────────────┼─────────────────┤\n",
       "│ lstm_3 (\u001b[38;5;33mLSTM\u001b[0m)                        │ (\u001b[38;5;45mNone\u001b[0m, \u001b[38;5;34m100\u001b[0m)                 │          \u001b[38;5;34m80,400\u001b[0m │\n",
       "├──────────────────────────────────────┼─────────────────────────────┼─────────────────┤\n",
       "│ dropout_3 (\u001b[38;5;33mDropout\u001b[0m)                  │ (\u001b[38;5;45mNone\u001b[0m, \u001b[38;5;34m100\u001b[0m)                 │               \u001b[38;5;34m0\u001b[0m │\n",
       "├──────────────────────────────────────┼─────────────────────────────┼─────────────────┤\n",
       "│ dense_1 (\u001b[38;5;33mDense\u001b[0m)                      │ (\u001b[38;5;45mNone\u001b[0m, \u001b[38;5;34m1\u001b[0m)                   │             \u001b[38;5;34m101\u001b[0m │\n",
       "├──────────────────────────────────────┼─────────────────────────────┼─────────────────┤\n",
       "│ activation_1 (\u001b[38;5;33mActivation\u001b[0m)            │ (\u001b[38;5;45mNone\u001b[0m, \u001b[38;5;34m1\u001b[0m)                   │               \u001b[38;5;34m0\u001b[0m │\n",
       "└──────────────────────────────────────┴─────────────────────────────┴─────────────────┘\n"
      ]
     },
     "metadata": {},
     "output_type": "display_data"
    },
    {
     "data": {
      "text/html": [
       "<pre style=\"white-space:pre;overflow-x:auto;line-height:normal;font-family:Menlo,'DejaVu Sans Mono',consolas,'Courier New',monospace\"><span style=\"font-weight: bold\"> Total params: </span><span style=\"color: #00af00; text-decoration-color: #00af00\">126,901</span> (495.71 KB)\n",
       "</pre>\n"
      ],
      "text/plain": [
       "\u001b[1m Total params: \u001b[0m\u001b[38;5;34m126,901\u001b[0m (495.71 KB)\n"
      ]
     },
     "metadata": {},
     "output_type": "display_data"
    },
    {
     "data": {
      "text/html": [
       "<pre style=\"white-space:pre;overflow-x:auto;line-height:normal;font-family:Menlo,'DejaVu Sans Mono',consolas,'Courier New',monospace\"><span style=\"font-weight: bold\"> Trainable params: </span><span style=\"color: #00af00; text-decoration-color: #00af00\">126,901</span> (495.71 KB)\n",
       "</pre>\n"
      ],
      "text/plain": [
       "\u001b[1m Trainable params: \u001b[0m\u001b[38;5;34m126,901\u001b[0m (495.71 KB)\n"
      ]
     },
     "metadata": {},
     "output_type": "display_data"
    },
    {
     "data": {
      "text/html": [
       "<pre style=\"white-space:pre;overflow-x:auto;line-height:normal;font-family:Menlo,'DejaVu Sans Mono',consolas,'Courier New',monospace\"><span style=\"font-weight: bold\"> Non-trainable params: </span><span style=\"color: #00af00; text-decoration-color: #00af00\">0</span> (0.00 B)\n",
       "</pre>\n"
      ],
      "text/plain": [
       "\u001b[1m Non-trainable params: \u001b[0m\u001b[38;5;34m0\u001b[0m (0.00 B)\n"
      ]
     },
     "metadata": {},
     "output_type": "display_data"
    }
   ],
   "source": [
    "history = History()\n",
    "\n",
    "model = Sequential()\n",
    "model.add(LSTM(\n",
    "         units=100,\n",
    "         return_sequences=True,\n",
    "         input_shape=(sequence_length, nb_features)))\n",
    "model.add(Dropout(0.2))\n",
    "model.add(LSTM(\n",
    "          units=100,\n",
    "          return_sequences=False))\n",
    "model.add(Dropout(0.2))\n",
    "model.add(Dense(units=1, activation='relu'))\n",
    "model.add(Activation(\"relu\"))\n",
    "model.compile(loss=\"mse\", optimizer=\"rmsprop\", metrics=['mse'])\n",
    "\n",
    "model.summary()"
   ]
  },
  {
   "cell_type": "code",
   "execution_count": 34,
   "id": "b0b2153e",
   "metadata": {},
   "outputs": [
    {
     "name": "stdout",
     "output_type": "stream",
     "text": [
      "Epoch 1/100\n",
      "\u001b[1m443/443\u001b[0m \u001b[32m━━━━━━━━━━━━━━━━━━━━\u001b[0m\u001b[37m\u001b[0m \u001b[1m31s\u001b[0m 65ms/step - loss: 6694.5322 - mse: 6694.5322 - val_loss: 5551.5781 - val_mse: 5551.5781\n",
      "Epoch 2/100\n",
      "\u001b[1m443/443\u001b[0m \u001b[32m━━━━━━━━━━━━━━━━━━━━\u001b[0m\u001b[37m\u001b[0m \u001b[1m29s\u001b[0m 65ms/step - loss: 2851.9885 - mse: 2851.9885 - val_loss: 2592.0530 - val_mse: 2592.0530\n",
      "Epoch 3/100\n",
      "\u001b[1m443/443\u001b[0m \u001b[32m━━━━━━━━━━━━━━━━━━━━\u001b[0m\u001b[37m\u001b[0m \u001b[1m30s\u001b[0m 67ms/step - loss: 1273.6144 - mse: 1273.6144 - val_loss: 1540.9062 - val_mse: 1540.9062\n",
      "Epoch 4/100\n",
      "\u001b[1m443/443\u001b[0m \u001b[32m━━━━━━━━━━━━━━━━━━━━\u001b[0m\u001b[37m\u001b[0m \u001b[1m24s\u001b[0m 55ms/step - loss: 827.5641 - mse: 827.5641 - val_loss: 1214.5563 - val_mse: 1214.5563\n",
      "Epoch 5/100\n",
      "\u001b[1m443/443\u001b[0m \u001b[32m━━━━━━━━━━━━━━━━━━━━\u001b[0m\u001b[37m\u001b[0m \u001b[1m26s\u001b[0m 58ms/step - loss: 715.9861 - mse: 715.9861 - val_loss: 1099.7386 - val_mse: 1099.7386\n",
      "Epoch 6/100\n",
      "\u001b[1m443/443\u001b[0m \u001b[32m━━━━━━━━━━━━━━━━━━━━\u001b[0m\u001b[37m\u001b[0m \u001b[1m24s\u001b[0m 55ms/step - loss: 638.2802 - mse: 638.2802 - val_loss: 1157.6150 - val_mse: 1157.6150\n"
     ]
    },
    {
     "data": {
      "text/plain": [
       "<keras.src.callbacks.history.History at 0x2b4ce759910>"
      ]
     },
     "execution_count": 34,
     "metadata": {},
     "output_type": "execute_result"
    }
   ],
   "source": [
    "model.fit(x_train, y_train, epochs=100, batch_size=32, validation_split=0.1, verbose=1,\n",
    "         callbacks = [history, keras.callbacks.EarlyStopping(monitor='val_loss', min_delta=0, patience=0, verbose=0, mode=\"auto\")])"
   ]
  },
  {
   "cell_type": "code",
   "execution_count": 41,
   "id": "5da1e239",
   "metadata": {},
   "outputs": [
    {
     "data": {
      "image/png": "[encoded data removed]",
      "text/plain": [
       "<Figure size 640x480 with 1 Axes>"
      ]
     },
     "metadata": {},
     "output_type": "display_data"
    }
   ],
   "source": [
    "# Plot training & validation mean squared error values\n",
    "plt.plot(history.history['mse'])\n",
    "plt.plot(history.history['val_mse'])\n",
    "plt.title('Model Mean Squared Error')\n",
    "plt.ylabel('Mean Squared Error')\n",
    "plt.xlabel('Epoch')\n",
    "plt.legend(['Train', 'Validation'], loc='upper left')\n",
    "plt.show()"
   ]
  },
  {
   "cell_type": "markdown",
   "id": "f9f12c62",
   "metadata": {},
   "source": [
    "### Evaluate on Train Set"
   ]
  },
  {
   "cell_type": "code",
   "execution_count": 42,
   "id": "da3a29f8",
   "metadata": {},
   "outputs": [
    {
     "name": "stdout",
     "output_type": "stream",
     "text": [
      "\u001b[1m79/79\u001b[0m \u001b[32m━━━━━━━━━━━━━━━━━━━━\u001b[0m\u001b[37m\u001b[0m \u001b[1m6s\u001b[0m 74ms/step - loss: 459.2239 - mse: 459.2239\n",
      "MSE: 602.2500610351562\n"
     ]
    }
   ],
   "source": [
    "scores = model.evaluate(x_train, y_train, verbose=1, batch_size=200)\n",
    "print('MSE: {}'.format(scores[1]))"
   ]
  },
  {
   "cell_type": "markdown",
   "id": "69f41ca6",
   "metadata": {},
   "source": [
    "### Evaluate on Test Set"
   ]
  },
  {
   "cell_type": "code",
   "execution_count": 43,
   "id": "7c53f109",
   "metadata": {},
   "outputs": [
    {
     "name": "stdout",
     "output_type": "stream",
     "text": [
      "4/4 - 0s - 20ms/step - loss: 408.6851 - mse: 408.6851\n",
      "MSE: 408.68511962890625\n"
     ]
    }
   ],
   "source": [
    "scores_test = model.evaluate(x_test, y_test, verbose=2)\n",
    "print('MSE: {}'.format(scores_test[1]))"
   ]
  },
  {
   "cell_type": "code",
   "execution_count": 47,
   "id": "b5607a75",
   "metadata": {},
   "outputs": [
    {
     "data": {
      "image/png": "[encoded data removed]",
      "text/plain": [
       "<Figure size 1000x500 with 1 Axes>"
      ]
     },
     "metadata": {},
     "output_type": "display_data"
    }
   ],
   "source": [
    "y_pred_test = model.predict(x_test, verbose=0)\n",
    "\n",
    "plt.figure(figsize=(10, 5))\n",
    "plt.plot(y_pred_test, color='red', label='Prediction')\n",
    "plt.plot(y_test, color='blue', label='Ground Truth')\n",
    "plt.ylabel(\"RUL\")\n",
    "plt.xlabel(\"Unit Number\")\n",
    "plt.legend(loc='upper left')\n",
    "plt.show()"
   ]
  },
  {
   "cell_type": "code",
   "execution_count": null,
   "id": "b89b612b",
   "metadata": {},
   "outputs": [],
   "source": []
  }
 ],
 "metadata": {
  "kernelspec": {
   "display_name": "Python 3 (ipykernel)",
   "language": "python",
   "name": "python3"
  },
  "language_info": {
   "codemirror_mode": {
    "name": "ipython",
    "version": 3
   },
   "file_extension": ".py",
   "mimetype": "text/x-python",
   "name": "python",
   "nbconvert_exporter": "python",
   "pygments_lexer": "ipython3",
   "version": "3.9.19"
  }
 },
 "nbformat": 4,
 "nbformat_minor": 5
}
